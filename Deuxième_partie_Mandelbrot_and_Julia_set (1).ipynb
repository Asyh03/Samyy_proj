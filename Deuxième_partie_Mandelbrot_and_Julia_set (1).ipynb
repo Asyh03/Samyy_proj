{
 "cells": [
  {
   "cell_type": "code",
   "execution_count": 1,
   "id": "e36a997e",
   "metadata": {},
   "outputs": [
    {
     "name": "stdout",
     "output_type": "stream",
     "text": [
      "P3  \n",
      "# Informations utiles sur l'image \n",
      "# (lieu, date de creation,...)\n",
      "3 2          \n",
      "255        \n",
      "255   0   0 \n",
      "0 255   0  \n",
      "0   0 255  \n",
      "0   0   0 \n",
      "255 255 255  \n",
      "122  53 201  \n",
      "\n"
     ]
    }
   ],
   "source": [
    "file = open(\"doc_partie2/exemple.ppm\")\n",
    "print(file.read())\n",
    "file.close()"
   ]
  },
  {
   "cell_type": "code",
   "execution_count": 6,
   "id": "d5856944",
   "metadata": {
    "scrolled": false
   },
   "outputs": [
    {
     "name": "stdout",
     "output_type": "stream",
     "text": [
      "[[['255', '0', '0'], ['0', '255', '0'], ['0', '0', '255']], [['0', '0', '0'], ['255', '255', '255'], ['122', '53', '201']]]\n"
     ]
    }
   ],
   "source": [
    "def get_picture(filename:str)->list[list[list[int]]] :\n",
    "    for k in range(5) :\n",
    "        filename.readline()\n",
    "    res = [[filename.readline().split() for i in range(3)] for j in range(2)]\n",
    "    return res\n",
    "file = open(\"doc_partie2/exemple.ppm\",\"r\")\n",
    "print(get_picture(file))\n",
    "file.close()"
   ]
  },
  {
   "cell_type": "markdown",
   "id": "ab0db3a1",
   "metadata": {},
   "source": [
    "$\\star\\underline{\\textbf{Fonction write_picture()}}$"
   ]
  },
  {
   "cell_type": "code",
   "execution_count": 3,
   "id": "79c56b9c",
   "metadata": {},
   "outputs": [],
   "source": [
    "def write_picture(img : list[list[list[int]]], comment : str, filename : str) -> None :\n",
    "    # On ouvre le flux en \"écriture\" grâce à la fonction open()\n",
    "    file = open(filename,\"w\")\n",
    "    # Ensuite on écrit les informations que doivent contenir l'image notamment la taille,le nombre de pixels\n",
    "    file.write(\"P3\\n\")\n",
    "    file.write(comment)\n",
    "    file.write(\"\\n\" + str(len(img[0])) + \" \" + str(len(img)) + \"\\n\")\n",
    "    file.write(\"\\n\"+str(255)+\"\\n\")\n",
    "    # Grâce à cette double boucle, on pourra parcourir entièrement le tableau 2D et pouvoir attribuer les couleurs à attribuer\n",
    "    for i in range(len(img)) :\n",
    "           for j in range(len(img[0])) :\n",
    "                file.write(str(img[i][j][0])+ \" \" + str(img[i][j][1]) + \" \" + str(img[i][j][2])+ \"\\n\" )\n",
    "                \n",
    "\n",
    "    #On fait juste un print() pour spécifier l'enregistrement de l'image sous le nom de de la variable 'filename'\n",
    "    print(\"Image enregistrée sous\",filename,\"avec succès\")\n",
    "    # On ferme le flux\n",
    "    file.close()\n"
   ]
  },
  {
   "cell_type": "markdown",
   "id": "a44fbadb",
   "metadata": {},
   "source": [
    "$\\textbf{I)}\\underline{\\textbf{ENSEMBLE DE MANDELBROT}}\\\\ $ \n",
    "D'abord une fonction :"
   ]
  },
  {
   "cell_type": "markdown",
   "id": "18031dba",
   "metadata": {},
   "source": [
    " $a)\\underline{\\textbf{Fonction mandelbrot_sub()}}$ "
   ]
  },
  {
   "cell_type": "markdown",
   "id": "54285ba8",
   "metadata": {},
   "source": [
    "### Au préalable on importe le module $cmath$\n",
    "Cette fonction a essentiellement pour but de définir le principe de voire la base de la construction de l'ensemble de Mandelbrot\n",
    "Elle prend en paramètre un nombre complexe c et le nombre d'itérations max_it. Ensuite elle fait une évaluation de la suite $(z_n)$ définie par $z_{n+1}=z_n²+c$ et qui a pour premier terme $z_0 = 0$. Alors,elle compare le module de ce complexe avec la valeur 2 si le module est supérieur ou égale à 2 elle renvoie l'indice sinon elle renvoie le nombre maximale d'itérations atteints."
   ]
  },
  {
   "cell_type": "markdown",
   "id": "b14ba17e",
   "metadata": {},
   "source": [
    "$b)\\underline{\\textbf{Fonction mandelbrot_set()}}$ "
   ]
  },
  {
   "cell_type": "markdown",
   "id": "b37cb429",
   "metadata": {},
   "source": [
    " Cette fonction prend en paramètre les entiers height et width, qui sont respectivement le nombre de pixels en hauteur et en largeur ensuite les réels $x_{start}\\,y_{start}\\,x_{end}\\,y_{end}\\$ qui constituent respectivement les coordonnées des  points de départs et de fin donc à chaque pixel pour la constitution de l'image.\n",
    "\n",
    "\n",
    "Au premier abord on définit un tableau vide qui constitue l'image en une seule couleur. Dans notre cas l'image est en tout noir.\n",
    "Ensuite dans une double boucle on détermine les coordonnées de chaque pixel qui constitueront la valeur du nombre complexe $c = real+i* imag$ par la formule suivante :\n",
    "$real = x * \\frac{(x_{end}-x_{start})}{(width-1)}+x_{start}$ et\n",
    "$imag = y * \\frac{(y_{end}-y_{start})}{(height-1)}+y_{start}$\n",
    " Ensuite on vérifie on obtient le résultat de construction à travers la vérification et le résultat faite par la fonction $\\textbf{mandelbrot_sub()}$. On fait par la suite une comparaison en le résultat obtenu et le nombre maximale d'itération afin d'obtenire le tableau de couleur qu'on désire.\n",
    " Ensuite on grâce à la fonction get_color(),on retourne le tableau avec \"l'image de k\"\n"
   ]
  },
  {
   "cell_type": "code",
   "execution_count": 14,
   "id": "305b8b99",
   "metadata": {
    "scrolled": true
   },
   "outputs": [
    {
     "name": "stdout",
     "output_type": "stream",
     "text": [
      "Image enregistrée sous Mandelbrot.ppm avec succès\n"
     ]
    }
   ],
   "source": [
    "import cmath\n",
    "#Fonction mandelbrot_sub()    \n",
    "def mandelbrot_sub(c : complex, max_it : int) -> int :\n",
    "    z = 0\n",
    "    for i in range(max_it):\n",
    "        z = z**2 + c\n",
    "        if abs(z) >= 2 :\n",
    "            return i\n",
    "    return max_it\n",
    "\n",
    "# Fonction mandelbrot_set()\n",
    "def mandelbrot_set(height:int,width:int,x_start:float,x_end:float,y_start:float,y_end:float) :\n",
    "#Création de l'image avec la couleur noir\n",
    "    pict_mandelbrot = [[[0,0,0] for i in range(width)] for j in range(height)]\n",
    "    \n",
    "    for y in range(height):\n",
    "        for x in range(width) :\n",
    "            real = (x * (x_end-x_start)/(width-1))+x_start\n",
    "            imag = (y * (y_end-y_start)/(height-1))+y_start\n",
    "            c = complex(real,imag)\n",
    "            n = mandelbrot_sub(c,maxi_it)\n",
    "            #Affichage de l'ensemble \n",
    "            if n < maxi_it :\n",
    "                pict_mandelbrot[y][x] = [255,255,255]\n",
    "    return pict_mandelbrot\n",
    "#Entrée des valeurs     \n",
    "h = 800\n",
    "w = 800\n",
    "x_1 = -2\n",
    "y_1 = -2\n",
    "x_2 = 2\n",
    "y_2 = 2\n",
    "maxi_it = 100\n",
    "\n",
    "#création de l'image et de l'affichage en blanc noir grâce à la fonction write_picture()\n",
    "tab = mandelbrot_set(h,w,x_1,x_2,y_1,y_2)\n",
    "write_picture(tab,\"#Mandel\",\"Mandelbrot.ppm\")"
   ]
  },
  {
   "cell_type": "markdown",
   "id": "0baef173",
   "metadata": {},
   "source": [
    " $\\textbf{II)}\\underline{\\textbf{ENSEMBLE DE JULIA}}\\\\ $ \n",
    "L'ensemble de julia est pratiquement similaire à celui de Mandelbrot mais à juste une différence près la variable."
   ]
  },
  {
   "cell_type": "markdown",
   "id": "330a18e9",
   "metadata": {},
   "source": [
    "$a)\\underline{\\textbf{Fonction julia_sub()}}$ "
   ]
  },
  {
   "cell_type": "markdown",
   "id": "9c0faefd",
   "metadata": {},
   "source": [
    "Cette fonction en différence de la fonction $\\textbf{mandelbrot_sub()}$ prend en plus de du complexe c et le nombre d'itérations en paramètre prend aussi le complexe z en paramètre. \n",
    "Le corps de cette fonction se représente comme la suite récurrente suivante :\n",
    "$(z_n)_{n\\in\\mathbb{N}}$ définie par $z_{n}=z_n²+c$.\n",
    "Dans le cas de cet ensemble au lieu du complexe c qui varie c'est la variable z qui varie c'est-à-dire au lieu de $c = real+i* imag$ on a $z = real+i* imag$\n"
   ]
  },
  {
   "cell_type": "markdown",
   "id": "4fcb7edc",
   "metadata": {},
   "source": [
    "$b)\\underline{\\textbf{Fonction julia_set()}}$ "
   ]
  },
  {
   "cell_type": "markdown",
   "id": "85506f75",
   "metadata": {},
   "source": [
    "Elle est exactement similaire à celle de ${\\textbf{mandelbrot_set()}}$"
   ]
  },
  {
   "cell_type": "markdown",
   "id": "ff85219f",
   "metadata": {},
   "source": [
    "$c)\\underline{\\textbf{AFFICHAGE DE L'ENSEMBLE}}$ "
   ]
  },
  {
   "cell_type": "markdown",
   "id": "fea92d5d",
   "metadata": {},
   "source": [
    "On obtient l'image correspondante grâce à la fonction $\\textbf{write_picture()}$"
   ]
  },
  {
   "cell_type": "code",
   "execution_count": 5,
   "id": "5af93de5",
   "metadata": {},
   "outputs": [
    {
     "name": "stdout",
     "output_type": "stream",
     "text": [
      "Image enregistrée sous Julia.ppm avec succès\n"
     ]
    }
   ],
   "source": [
    "import cmath\n",
    "#Fonction julia_sub()\n",
    "def julia_sub(c : complex,z:complex, max_it : int) -> int :\n",
    "    for i in range(max_it):\n",
    "        z = z**2 + c\n",
    "        if abs(z) >= 2 :\n",
    "            return i\n",
    "    return max_it\n",
    "#Fonction julia_set()\n",
    "def julia_set(height:int,width:int,x_start:float,x_end:float,y_start:float,y_end:float) :\n",
    "    #Image en tout noir\n",
    "    pict_julia = [[[0,0,0] for i in range(width)] for j in range(height)]\n",
    "    \n",
    "    for y in range(height):\n",
    "        for x in range(width) :\n",
    "            real = x * (x_end-x_start)/(width-1)+x_start\n",
    "            imag = y * (y_end-y_start)/(height-1)+y_start\n",
    "            z = complex(real,imag)\n",
    "            n = julia_sub(c,z,maxi_it)\n",
    "            if n < maxi_it :\n",
    "                pict_julia[y][x] = [255,255,255]\n",
    "    return pict_julia\n",
    "\n",
    "height = 1000\n",
    "width = 1000\n",
    "x_1 = -2\n",
    "y_1 = -2\n",
    "x_2 = 2\n",
    "y_2 = 2\n",
    "maxi_it = 300\n",
    "c = complex(-0.8,0.156)\n",
    "\n",
    "#Affichage en blanc noir de l'ensemble de l'ensemble de Julia \n",
    "tab = julia_set(height,width,x_1,x_2,y_1,y_2)\n",
    "write_picture(tab,\"#Julia\",\"Julia.ppm\")"
   ]
  },
  {
   "cell_type": "markdown",
   "id": "d542204e",
   "metadata": {},
   "source": [
    "$\\textbf{III)}$$\\underline{\\textbf{Fonction get_color() et interpolation linéaire pour l'affichage en couleur}}$\n"
   ]
  },
  {
   "cell_type": "markdown",
   "id": "698b6a17",
   "metadata": {},
   "source": [
    "La fonction $\\textbf{get_color()}$ a pour principal objectif de pouvoir créer une échelle de couleurs avec interpollation afin de pouvoir mieux oserver les détails de notre fractale. Pour ce faire nous suivre l'exemple qui a été donné dans le document."
   ]
  },
  {
   "cell_type": "code",
   "execution_count": 18,
   "id": "2df4bdec",
   "metadata": {},
   "outputs": [],
   "source": [
    "def get_color(q : float) -> list[int] :\n",
    "    if q == 0.0 :\n",
    "        return [0, 7, 100]\n",
    "    elif 0<=q and q<0.16 :\n",
    "        t = q/0.16\n",
    "        color1 = [0, 7, 100]\n",
    "        color2 = [32,107,203]\n",
    "    elif q<=0.16 and q<0.42 :\n",
    "        t = (q-0.16)/(0.42-0.16)\n",
    "        color1 = [32,107,203]\n",
    "        color2 = [237,255,255]\n",
    "    elif q<=0.42 and q<0.6425 :\n",
    "        t = (q-0.42)/(0.6425-0.42)\n",
    "        color1 = [237,255,255]\n",
    "        color2 = [255, 170, 0]\n",
    "    elif q<=0.6425 and q<0.8575 :\n",
    "        t = (q-0.6425)/(0.8575-0.6425)\n",
    "        color1 = [255, 170, 0]\n",
    "        color2 = [153, 89, 0]\n",
    "    else:\n",
    "        t = (q-0.8575)/(1-0.8575)\n",
    "        color1 = [153,89,0]\n",
    "        color2 = [0,2,0]\n",
    "    res = [int((1-t)*color1[i] + t*color2[i]) for i in range(3)]\n",
    "    return res\n"
   ]
  },
  {
   "cell_type": "markdown",
   "id": "531c43cd",
   "metadata": {},
   "source": [
    "Alors pour utiliser notre fonction $\\textbf{get_color()}$,reprenons notre fonction $\\textbf{mandelbrot_set()}$ et $\\textbf{julia_set()}$ en définissant une variable $k = \\frac{n}{maxi_{it}}$ dont on déterminera l'image par $\\textbf{get_color()}$ et ensuite au lieu de retourner un tableau blanc on retourne le tableau otenu par cette dernière."
   ]
  },
  {
   "cell_type": "markdown",
   "id": "f9825d14",
   "metadata": {},
   "source": [
    "$\\star\\underline{\\textbf{Mandelbrot}}$"
   ]
  },
  {
   "cell_type": "code",
   "execution_count": 67,
   "id": "750c39e1",
   "metadata": {},
   "outputs": [
    {
     "name": "stdout",
     "output_type": "stream",
     "text": [
      "Image enregistrée sous Mandelbrot_en_couleur.ppm avec succès\n",
      "Le programme a mis 10.60235047340393 secondes pour s'exécuter\n"
     ]
    }
   ],
   "source": [
    "def mandelbrot_set(height:int,width:int,x_start:float,x_end:float,y_start:float,y_end:float) :\n",
    "#Création de l'image avec la couleur noir\n",
    "    pict_mandelbrot = [[[0,0,0] for i in range(width)] for j in range(height)]\n",
    "    \n",
    "    for y in range(height):\n",
    "        for x in range(width) :\n",
    "            real = (x * (x_end-x_start)/(width-1))+x_start\n",
    "            imag = (y * (y_end-y_start)/(height-1))+y_start\n",
    "            c = complex(real,imag)\n",
    "            n = mandelbrot_sub(c,maxi_it)\n",
    "            #Définition de la variable k\n",
    "            k = n/maxi_it\n",
    "            #Affichage de l'ensemble \n",
    "            if n < maxi_it :\n",
    "                pict_mandelbrot[y][x] = get_color(k)\n",
    "    return pict_mandelbrot\n",
    "#Entrée des valeurs     \n",
    "h = 1000\n",
    "w = 1000\n",
    "x_1 = -2\n",
    "y_1 = -2\n",
    "x_2 = 2\n",
    "y_2 = 2\n",
    "maxi_it = 100\n",
    "\n",
    "#création de l'image et de l'affichage en blanc noir grâce à la fonction write_picture()\n",
    "tab = mandelbrot_set(h,w,x_1,x_2,y_1,y_2)\n",
    "write_picture(tab,\"#Mandel\",\"Mandelbrot_en_couleur.ppm\")"
   ]
  },
  {
   "cell_type": "markdown",
   "id": "d704cd9b",
   "metadata": {},
   "source": [
    "$\\star\\underline{\\textbf{Julia}}$"
   ]
  },
  {
   "cell_type": "code",
   "execution_count": 16,
   "id": "00707102",
   "metadata": {},
   "outputs": [
    {
     "name": "stdout",
     "output_type": "stream",
     "text": [
      "Image enregistrée sous Julia_en_couleur.ppm avec succès\n"
     ]
    }
   ],
   "source": [
    "def julia_set(height:int,width:int,x_start:float,x_end:float,y_start:float,y_end:float) :\n",
    "    #Image en tout noir\n",
    "    pict_julia = [[[0,0,0] for i in range(width)] for j in range(height)]\n",
    "    \n",
    "    for y in range(height):\n",
    "        for x in range(width) :\n",
    "            real = x * (x_end-x_start)/(width-1)+x_start\n",
    "            imag = y * (y_end-y_start)/(height-1)+y_start\n",
    "            z = complex(real,imag)\n",
    "            n = julia_sub(c,z,maxi_it)\n",
    "            #Ici au lieu de k, j'ai préféré mettre m pour une légère distinction\n",
    "            m = n/maxi_it\n",
    "            if n < maxi_it :\n",
    "                pict_julia[y][x] = get_color(m)\n",
    "    return pict_julia\n",
    "\n",
    "height = 1000\n",
    "width = 1000\n",
    "x_1 = -2\n",
    "y_1 = -2\n",
    "x_2 = 2\n",
    "y_2 = 2\n",
    "maxi_it = 100\n",
    "c = complex(-0.8,0.156)\n",
    "\n",
    "#Affichage en blanc noir de l'ensemble de l'ensemble de Julia \n",
    "tab = julia_set(height,width,x_1,x_2,y_1,y_2)\n",
    "write_picture(tab,\"#Julia\",\"Julia_en_couleur.ppm\")"
   ]
  },
  {
   "cell_type": "markdown",
   "id": "1c1f6b1f",
   "metadata": {},
   "source": [
    "$\\textbf{IV)}$ $\\underline{\\textbf{ZOOM}}$"
   ]
  },
  {
   "cell_type": "markdown",
   "id": "7e2daf04",
   "metadata": {},
   "source": [
    "$\\star\\underline{\\textbf{Mandelbrot}}$"
   ]
  },
  {
   "cell_type": "markdown",
   "id": "536cc4d5",
   "metadata": {},
   "source": [
    "Reprenons notre fonction mandelbrot_set() et nous allons zoomer sur le point de coordonnées $z=a+ib$ d'un facteur de $f=2^{30}$"
   ]
  },
  {
   "cell_type": "code",
   "execution_count": 56,
   "id": "d45aecfe",
   "metadata": {},
   "outputs": [
    {
     "name": "stdout",
     "output_type": "stream",
     "text": [
      "Image enregistrée sous Mandel_zoom avec succès\n",
      "Le programme a mis 111.81668734550476 secondes pour s'exécuter\n"
     ]
    }
   ],
   "source": [
    "def zoom(img:list[list[list[int]]],a:float,b:float,x_start:float,y_start:float,x_end:float,y_end:float,f:float) :\n",
    "    z_start = [a - (x_end-x_start)/(2*f), b+(y_end-y_start)/(2*f)]\n",
    "    z_end = [a + (x_end-x_start)/(2*f), b+(y_end-y_start)/(2*f)]\n",
    "    zoom_pict = mandelbrot_set(len(img),len(img[0]),z_start[0],z_end[1],z_start[0],z_end[1])\n",
    "    return zoom_pict\n",
    "a_zoom = -0.7436438870371594998079545865\n",
    "b_zoom = 0.13182590420531249972315198\n",
    "fact = 2**30\n",
    "zoom_tab = zoom(tab,a_zoom,b_zoom,x_1,y_1,x_2,y_2,fact)\n",
    "write_picture(zoom_tab,\"#Zoom\",\"Mandel_zoom\")\n"
   ]
  },
  {
   "cell_type": "markdown",
   "id": "d5fb0efb",
   "metadata": {},
   "source": [
    "$\\star\\underline{\\textbf{Julia}}$"
   ]
  },
  {
   "cell_type": "markdown",
   "id": "7b8592b6",
   "metadata": {},
   "source": [
    "Faisons de même avec l'ensemble de Julia sans oublier que la fonction $\\textbf{julia_set()}$ ne prend en paramètre que 7 variables."
   ]
  },
  {
   "cell_type": "code",
   "execution_count": 47,
   "id": "5fb2727a",
   "metadata": {},
   "outputs": [
    {
     "name": "stdout",
     "output_type": "stream",
     "text": [
      "Image enregistrée sous Julia_zoom avec succès\n"
     ]
    }
   ],
   "source": [
    "def zoom(img:list[list[list[int]]],a:float,b:float,x_start:float,y_start:float,x_end:float,y_end:float,f:float) :\n",
    "    z_start = [a - (x_end-x_start)/(2*f), b+(y_end-y_start)/(2*f)]\n",
    "    z_end = [a + (x_end-x_start)/(2*f), b+(y_end-y_start)/(2*f)]\n",
    "    zoom_pict = julia_set(len(img),len(img[0]),z_start[0],z_end[1],z_start[0],z_end[1])\n",
    "    return zoom_pict\n",
    "a_zoom = 1\n",
    "b_zoom = -0.5\n",
    "fact = 2**30\n",
    "zoom_tab = zoom(tab,a_zoom,b_zoom,x_1,y_1,x_2,y_2,fact)\n",
    "write_picture(zoom_tab,\"#Zoom\",\"Julia_zoom\")"
   ]
  },
  {
   "cell_type": "markdown",
   "id": "a8b0837a",
   "metadata": {},
   "source": [
    "$\\underline{\\textbf{Remarque}}$"
   ]
  },
  {
   "cell_type": "markdown",
   "id": "ff499ebe",
   "metadata": {},
   "source": [
    "Il faut noter que le choix du max_it joue un rôle important dans la construction de la fractale"
   ]
  },
  {
   "cell_type": "markdown",
   "id": "ed6ad129",
   "metadata": {},
   "source": [
    "Plus le nombre d'itérations est faible plus le couleurs se distinguent très facilement cependant en augmentant le nombre d'itérations,on distingue moins bien les couleurs et c'est la qu'entre en jeu la fonction $\\textbf{zoom()}$ qui permet grâce au facteur de zoom de pouvoir mieux observer et voir la constitution de la fractale.\n",
    "En deuxième position il faut noter que plus la valeur de max_it est de plus en plus grande, la complexité en temps est de plus en plus grande.  "
   ]
  },
  {
   "cell_type": "markdown",
   "id": "5be3b473",
   "metadata": {},
   "source": [
    "Afin de mieux l'illustrer,essayons de calculer le temps d'exécution de l'ensemble de $\\textbf{mandelbrot()}$ grâce au module $\\textbf{time}$"
   ]
  },
  {
   "cell_type": "code",
   "execution_count": 69,
   "id": "b926fee5",
   "metadata": {},
   "outputs": [
    {
     "name": "stdout",
     "output_type": "stream",
     "text": [
      "Image enregistrée sous Mandelbrot_en_couleur.ppm avec succès\n",
      "Le programme a mis 19.015083074569702 secondes pour s'exécuter\n"
     ]
    }
   ],
   "source": [
    "import time\n",
    "debut = time.time()\n",
    "def mandelbrot_set(height:int,width:int,x_start:float,x_end:float,y_start:float,y_end:float) :\n",
    "#Création de l'image avec la couleur noir\n",
    "    pict_mandelbrot = [[[0,0,0] for i in range(width)] for j in range(height)]\n",
    "    \n",
    "    for y in range(height):\n",
    "        for x in range(width) :\n",
    "            real = (x * (x_end-x_start)/(width-1))+x_start\n",
    "            imag = (y * (y_end-y_start)/(height-1))+y_start\n",
    "            c = complex(real,imag)\n",
    "            n = mandelbrot_sub(c,maxi_it)\n",
    "            #Définition de la variable k\n",
    "            k = n/maxi_it\n",
    "            #Affichage de l'ensemble \n",
    "            if n < maxi_it :\n",
    "                pict_mandelbrot[y][x] = get_color(k)\n",
    "    return pict_mandelbrot\n",
    "#Entrée des valeurs     \n",
    "h = 1000\n",
    "w = 1000\n",
    "x_1 = -2\n",
    "y_1 = -2\n",
    "x_2 = 2\n",
    "y_2 = 2\n",
    "maxi_it = 300\n",
    "\n",
    "#création de l'image et de l'affichage en blanc noir grâce à la fonction write_picture()\n",
    "tab = mandelbrot_set(h,w,x_1,x_2,y_1,y_2)\n",
    "write_picture(tab,\"#Mandel\",\"Mandelbrot_en_couleur.ppm\")\n",
    "fin = time.time()\n",
    "ecart = abs(debut - fin)\n",
    "print(\"Le programme a mis\",ecart,\"secondes pour s'exécuter\")"
   ]
  },
  {
   "cell_type": "markdown",
   "id": "1d4388e2",
   "metadata": {},
   "source": [
    "$\\underline{\\textbf{Quelques exemples}} :$"
   ]
  },
  {
   "cell_type": "markdown",
   "id": "9de594ea",
   "metadata": {},
   "source": [
    "$max_{it} = 50 \\Rightarrow t_{50} = 10.60235047340393 s \\\\$\n",
    "$max_{it} = 100 \\Rightarrow t_{100} = 12.398715496063232 s \\\\\\\\ $\n",
    "$max_{it} = 300 \\Rightarrow t_{300} = 19.015083074569702 s$\n"
   ]
  },
  {
   "cell_type": "markdown",
   "id": "85bcc480",
   "metadata": {},
   "source": [
    "Alors on remarque que le plus le nombre d'itérations est important plus le temps d'exécution l'est . Et il ne faut pas oublier que le nomre d'itérations joue aussi un rôle sur l'espace mémoire"
   ]
  }
 ],
 "metadata": {
  "kernelspec": {
   "display_name": "Python 3 (ipykernel)",
   "language": "python",
   "name": "python3"
  },
  "language_info": {
   "codemirror_mode": {
    "name": "ipython",
    "version": 3
   },
   "file_extension": ".py",
   "mimetype": "text/x-python",
   "name": "python",
   "nbconvert_exporter": "python",
   "pygments_lexer": "ipython3",
   "version": "3.9.13"
  }
 },
 "nbformat": 4,
 "nbformat_minor": 5
}
