{
 "cells": [
  {
   "cell_type": "markdown",
   "id": "85bcccad",
   "metadata": {},
   "source": [
    "### $\\underline{\\textbf{FOUGERE DE BRANSLEY}}$"
   ]
  },
  {
   "cell_type": "markdown",
   "id": "a435a7e0",
   "metadata": {},
   "source": [
    "### $\\bullet$ Import du module random et matplotlib"
   ]
  },
  {
   "cell_type": "code",
   "execution_count": 22,
   "id": "7630ebc3",
   "metadata": {},
   "outputs": [
    {
     "name": "stdout",
     "output_type": "stream",
     "text": [
      "Using matplotlib backend: Qt5Agg\n"
     ]
    }
   ],
   "source": [
    "import matplotlib.pyplot as plt\n",
    "%matplotlib\n",
    "import random"
   ]
  },
  {
   "cell_type": "markdown",
   "id": "65acc31e",
   "metadata": {},
   "source": [
    "### Au premier abord on définit des fonctions $f_1,f_2,f_3,f_4$ qui prennent en paramètres les coordonnées des points $(x,y)$ et retourneront les images des points à afficher qui formeront la fougère."
   ]
  },
  {
   "cell_type": "code",
   "execution_count": 23,
   "id": "3fc21eee",
   "metadata": {},
   "outputs": [],
   "source": [
    "def f_1(x,y) :\n",
    "    return(0,0.16*y)\n",
    "def f_2(x,y) :\n",
    "    return(0.85*x + 0.04*y,-0.04*x + 0.85*y + 1.6)\n",
    "def f_3(x,y) :\n",
    "    return (0.2*x -0.26*y, 0.23*x + 0.22*y + 1.6)\n",
    "def f_4(x,y) :\n",
    "    return (-0.15*x + 0.28*y, 0.26*x + 0.24*y + 0.44)"
   ]
  },
  {
   "cell_type": "markdown",
   "id": "61ad0d60",
   "metadata": {},
   "source": [
    "### Ensuite on crée deux tableaux définis comme suit :\n",
    "### - $f:$ qui contiendra toutes les fonctions définies précédemment\n",
    "### - $p:$ qui contiendra les probabilités d'affichage des points retournés par chaque fonctions"
   ]
  },
  {
   "cell_type": "code",
   "execution_count": 24,
   "id": "2a83568b",
   "metadata": {},
   "outputs": [],
   "source": [
    "f =[f_1,f_2,f_3,f_4]\n",
    "p=[0.01,0.85,0.07,0.07]"
   ]
  },
  {
   "cell_type": "markdown",
   "id": "cc242969",
   "metadata": {},
   "source": [
    "### $\\bullet$ On entre le nombre de points N qui constituera aussi le nombre d'itérations\n",
    "### $\\bullet$ On initialise les coordonnées $(x,y)$ à l'origine autrement dit l'origine constitue le point de départ de la constitution de la fractale\n",
    "### $\\bullet$ On crée deux listes $\\textbf{x_list}$ et $\\textbf{y_list}$ qui sont au départ vides et lors de l'itérations contiendront respectivements les abscisses $x$ et les ordonnées $y$\n",
    "### $\\bullet$ Grâce à la fonction $\\textbf{random.choices()}$, importé du module $\\textbf{random}$, le programme choisira de manière aléatoire les fonctions définies précédemment en fonction des probabilités pour ensuite extraire la première valeur de la liste générée aléatoirement.Alors dans notre cas $p[2]=0.85$ donc à chaque itération la fonction $f_2$ apparaîtra plusieurs fois lors du choix.\n",
    "### Par exemple si N=1 on obtient $\\textit{<function f_2 at 0x0000022A03C11B80>}$ ce qui veut simplement dire que la fonction $f_2$ a été choisie en fonction de sa probilité $p[2]=0.85$ et vu que c'est le seul élément du tableau alors la seule et unique valeur extraite est cette dernière.\n",
    "### $\\bullet$ Par la suite on incrémante chaque valeur précédente au couple $(x,y)$ et grâce à la fonction $\\textbf{.append()}$, on ajoute respectivement aux liste $\\textbf{x_list}$ et $\\textbf{y_list}$ chaque valeur de $x$ et de $y$\n"
   ]
  },
  {
   "cell_type": "code",
   "execution_count": 25,
   "id": "a3f22e15",
   "metadata": {},
   "outputs": [
    {
     "name": "stdout",
     "output_type": "stream",
     "text": [
      "Entrez le nombre de points :100000\n"
     ]
    }
   ],
   "source": [
    "N = int(input(\"Entrez le nombre de points :\"))\n",
    "(x,y)=(0,0)\n",
    "x_list=[]\n",
    "y_list=[]\n",
    "for i in range(N) :\n",
    "    fonction = random.choices(f,p)[0]\n",
    "    (x,y)=fonction(x,y)\n",
    "    x_list.append(x)\n",
    "    y_list.append(y)\n",
    "    "
   ]
  },
  {
   "cell_type": "markdown",
   "id": "05144da7",
   "metadata": {},
   "source": [
    "### $\\underline{\\textbf{AFFICHAGE DE LA FOUGÈRE}}$\n",
    "### On va utiliser les modules de matplotlib\n",
    "### On affiche tous les points de coordonées $(x,y)$ contenus respectivement dans les tableaux $\\textbf{x_list}$ et $\\textbf{y_list}$ grâce à la fonction $\\textbf{.scatter()}$\n",
    "### $\\underline{\\textbf{Légende:}}$\n",
    "### -$\\textbf{s}$ : Size (densité des points) "
   ]
  },
  {
   "cell_type": "code",
   "execution_count": 26,
   "id": "651b0bee",
   "metadata": {
    "scrolled": true
   },
   "outputs": [
    {
     "data": {
      "text/plain": [
       "Text(0.5, 1.0, 'Fougère de Bransley')"
      ]
     },
     "execution_count": 26,
     "metadata": {},
     "output_type": "execute_result"
    }
   ],
   "source": [
    "fig = plt.figure(figsize=(100,100))\n",
    "plt.scatter(x_list,y_list,s=0.2,color='green')\n",
    "plt.title(\"Fougère de Bransley\")\n"
   ]
  },
  {
   "cell_type": "markdown",
   "id": "5a365d5e",
   "metadata": {},
   "source": [
    "### $\\underline{\\textbf{TRIANGLE DE SIERPINSKI}}$"
   ]
  },
  {
   "cell_type": "markdown",
   "id": "42b6b2d4",
   "metadata": {},
   "source": [
    "### $\\bullet$ Import de matpotlib.pyplot as plt"
   ]
  },
  {
   "cell_type": "code",
   "execution_count": 18,
   "id": "e969ed8b",
   "metadata": {},
   "outputs": [],
   "source": [
    "import matplotlib.pyplot as plt\n"
   ]
  },
  {
   "cell_type": "markdown",
   "id": "4dfca9d5",
   "metadata": {},
   "source": [
    "### $\\underline{Détermination\\ des\\ milieux\\ de\\ chaque\\ cotés\\ du\\ triangle\\ de\\ base}$"
   ]
  },
  {
   "cell_type": "code",
   "execution_count": 19,
   "id": "ce4fea40",
   "metadata": {},
   "outputs": [],
   "source": [
    "def mil(p1:list,p2:list) :\n",
    "    return [(p1[0]+p2[0])/2,(p1[1]+p2[1])/2]"
   ]
  },
  {
   "cell_type": "markdown",
   "id": "387e2e43",
   "metadata": {},
   "source": [
    "$\\star\\underline{\\textbf{ Fonction récursive qui génère la fractale de Sierpinski}}$\n",
    " Cette fonction $\\textbf{Sierpinski}$ prendra en paramètres les points $p_1,p_2,p_3\\ et\\ le\\ nombre\\ d'itérations\\ n$ \n",
    "\n",
    " $\\bullet\\underline{Cas\\ 1 :}$ Si $n=0$, on obtiendra juste le triangle de base formé par les points $p_1,p_2,p_3 $ dont les abcisses et les ordonnées seront respectivement compris dans les tableaux $\\textbf{x_ list et y_list}$ et grâce à la fonction $\\textbf{.fill()}$ de matplotlib on pourra remplir l'espace formé par les 3 points.$\\\\$\n",
    " $\\bullet\\underline{Cas\\ 2 :}$ Si $n\\neq 0$, alors,au préalable, on déterminera les milieux de chaque coté du triangle grâce à la fonction $\\textbf{mil()}$ et ensuite de manière récursive appeler la fonction $\\textbf{Sierpinski()}$ sur chaque triangle formés par les milieux et les points du triangle de base. "
   ]
  },
  {
   "cell_type": "code",
   "execution_count": 20,
   "id": "b8f309da",
   "metadata": {},
   "outputs": [],
   "source": [
    "def sierpinski(p1:list[float],p2:list[float],p3:list[float],n:int) :\n",
    "    if n == 0 :\n",
    "        x_list=[p1[0],p2[0],p3[0]]\n",
    "        y_list=[p1[1],p2[1],p3[1]]\n",
    "        return plt.fill(x_list,y_list,color='blue',edgecolor='black')\n",
    "    else :\n",
    "        #Déterminons les milieux \n",
    "        mid_1 = mil(p1,p2)\n",
    "        mid_2 = mil(p2,p3)\n",
    "        mid_3 = mil(p1,p3)\n",
    "        #Appel récursive de la fonction sierpinski\n",
    "        résultat_1 = sierpinski(p1,mid_1,mid_3,n-1)\n",
    "        résultat_2 = sierpinski(p2,mid_1,mid_2,n-1)\n",
    "        résultat_3 = sierpinski(p3,mid_2,mid_3,n-1)\n",
    "          "
   ]
  },
  {
   "cell_type": "markdown",
   "id": "d5b679a5",
   "metadata": {},
   "source": [
    "### AFFICHAGE DU TRIANGLE"
   ]
  },
  {
   "cell_type": "code",
   "execution_count": 21,
   "id": "0d38aab3",
   "metadata": {},
   "outputs": [
    {
     "name": "stdout",
     "output_type": "stream",
     "text": [
      "Entrez le nombre d'itérations :7\n"
     ]
    }
   ],
   "source": [
    "n_it = int(input(\"Entrez le nombre d'itérations :\"))\n",
    "p1=[1,0]\n",
    "p2=[0,0]\n",
    "p3=[0,1]\n",
    "plt.axis('equal')\n",
    "sierpinski(p1,p2,p3,n_it)\n",
    "plt.show()"
   ]
  },
  {
   "cell_type": "code",
   "execution_count": 3,
   "id": "068b003e",
   "metadata": {},
   "outputs": [],
   "source": [
    "from PIL import Image\n",
    "\n",
    "def mandelbrot(c, max_iter):\n",
    "    z = 0\n",
    "    n = 0\n",
    "    while abs(z) <= 2 and n < max_iter:\n",
    "        z = z**2 + c\n",
    "        n += 1\n",
    "    if n == max_iter:\n",
    "        return 0\n",
    "    return n\n",
    "\n",
    "def generate_mandelbrot(width, height, xmin, xmax, ymin, ymax, max_iter):\n",
    "    image = Image.new(\"RGB\", (width, height), \"black\")\n",
    "    pixels = image.load()\n",
    "\n",
    "    for x in range(width):\n",
    "        for y in range(height):\n",
    "            # Convert pixel coordinate to complex number\n",
    "            c = complex(xmin + (x / width) * (xmax - xmin),\n",
    "                        ymin + (y / height) * (ymax - ymin))\n",
    "\n",
    "            # Perform the Mandelbrot iteration\n",
    "            color = mandelbrot(c, max_iter)\n",
    "\n",
    "            # Map the iteration count to an RGB color\n",
    "            r = (color % 8) * 32\n",
    "            g = (color % 16) * 16\n",
    "            b = (color % 32) * 8\n",
    "\n",
    "            pixels[x, y] = (r, g, b)\n",
    "\n",
    "    return image\n",
    "\n",
    "if __name__ == \"__main__\":\n",
    "    width, height = 800, 800\n",
    "    xmin, xmax = -2, 2\n",
    "    ymin, ymax = -2, 2\n",
    "    max_iter = 256\n",
    "\n",
    "    mandelbrot_image = generate_mandelbrot(width, height, xmin, xmax, ymin, ymax, max_iter)\n",
    "    mandelbrot_image.save(\"mandelbrot.ppm\")\n"
   ]
  }
 ],
 "metadata": {
  "kernelspec": {
   "display_name": "Python 3 (ipykernel)",
   "language": "python",
   "name": "python3"
  },
  "language_info": {
   "codemirror_mode": {
    "name": "ipython",
    "version": 3
   },
   "file_extension": ".py",
   "mimetype": "text/x-python",
   "name": "python",
   "nbconvert_exporter": "python",
   "pygments_lexer": "ipython3",
   "version": "3.9.13"
  }
 },
 "nbformat": 4,
 "nbformat_minor": 5
}
